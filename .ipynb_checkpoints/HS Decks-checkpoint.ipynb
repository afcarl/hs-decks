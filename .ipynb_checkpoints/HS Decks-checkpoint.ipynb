{
 "cells": [
  {
   "cell_type": "code",
   "execution_count": 2,
   "metadata": {
    "collapsed": false,
    "scrolled": true
   },
   "outputs": [],
   "source": [
    "%load_ext autoreload\n",
    "%autoreload 2\n",
    "\n",
    "import fireplace\n",
    "from fireplace.card import Card\n",
    "import fireplace.cards\n",
    "from hearthstone.enums import CardType\n",
    "\n",
    "%matplotlib inline\n",
    "import numpy as np\n",
    "import pandas as pd\n",
    "\n",
    "from hsdc.parallel import parallelize\n",
    "import hsdc.scraper\n",
    "from hsdc.scraper import get_hearthpwn_decks\n",
    "\n",
    "import time\n",
    "#from timeit import timeit"
   ]
  },
  {
   "cell_type": "code",
   "execution_count": 90,
   "metadata": {
    "collapsed": false,
    "scrolled": true
   },
   "outputs": [
    {
     "name": "stdout",
     "output_type": "stream",
     "text": [
      "21.003677416394567\n"
     ]
    },
    {
     "data": {
      "text/html": [
       "<div>\n",
       "<table border=\"1\" class=\"dataframe\">\n",
       "  <thead>\n",
       "    <tr style=\"text-align: right;\">\n",
       "      <th></th>\n",
       "      <th>Deck Name</th>\n",
       "      <th>Deck Type</th>\n",
       "      <th>Class</th>\n",
       "      <th>Rating</th>\n",
       "      <th>Views</th>\n",
       "      <th>Comments</th>\n",
       "      <th>Cost</th>\n",
       "      <th>Updated</th>\n",
       "      <th>Link</th>\n",
       "    </tr>\n",
       "  </thead>\n",
       "  <tbody>\n",
       "    <tr>\n",
       "      <th>0</th>\n",
       "      <td>[S19] Top 50 Legend NA Secret Paladin  by Loronzo</td>\n",
       "      <td>Tempo</td>\n",
       "      <td>Paladin</td>\n",
       "      <td>49</td>\n",
       "      <td>18057</td>\n",
       "      <td>17</td>\n",
       "      <td>5700</td>\n",
       "      <td>Nov 3, 2015 Warsong Nerf</td>\n",
       "      <td>/decks/356359-s19-top-50-legend-na-secret-paladin</td>\n",
       "    </tr>\n",
       "    <tr>\n",
       "      <th>1</th>\n",
       "      <td>[TwoBiers] Dreadscale Hunter  by TwoBiers</td>\n",
       "      <td>Midrange</td>\n",
       "      <td>Hunter</td>\n",
       "      <td>161</td>\n",
       "      <td>66785</td>\n",
       "      <td>69</td>\n",
       "      <td>4420</td>\n",
       "      <td>Oct 28, 2015 Warsong Nerf</td>\n",
       "      <td>/decks/354762-twobiers-dreadscale-hunter</td>\n",
       "    </tr>\n",
       "    <tr>\n",
       "      <th>2</th>\n",
       "      <td>[TOP 1] Legend Control Warrior (S19)  by zataroHS</td>\n",
       "      <td>Control</td>\n",
       "      <td>Warrior</td>\n",
       "      <td>98</td>\n",
       "      <td>57151</td>\n",
       "      <td>126</td>\n",
       "      <td>13.8k</td>\n",
       "      <td>Nov 2, 2015 Warsong Nerf</td>\n",
       "      <td>/decks/355100-top-1-legend-control-warrior-s19</td>\n",
       "    </tr>\n",
       "    <tr>\n",
       "      <th>3</th>\n",
       "      <td>[Legend] Malylock  by Emixa</td>\n",
       "      <td>Control</td>\n",
       "      <td>Warlock</td>\n",
       "      <td>99</td>\n",
       "      <td>44811</td>\n",
       "      <td>60</td>\n",
       "      <td>4080</td>\n",
       "      <td>Nov 2, 2015 Warsong Nerf</td>\n",
       "      <td>/decks/355055-legend-malylock</td>\n",
       "    </tr>\n",
       "    <tr>\n",
       "      <th>4</th>\n",
       "      <td>Burst Rogue 2.0 - Legend Grinder - Budget Incl...</td>\n",
       "      <td>Aggro</td>\n",
       "      <td>Rogue</td>\n",
       "      <td>390</td>\n",
       "      <td>162317</td>\n",
       "      <td>116</td>\n",
       "      <td>2900</td>\n",
       "      <td>Nov 1, 2015 Warsong Nerf</td>\n",
       "      <td>/decks/352910-burst-rogue-2-0-legend-grinder-b...</td>\n",
       "    </tr>\n",
       "  </tbody>\n",
       "</table>\n",
       "</div>"
      ],
      "text/plain": [
       "                                           Deck Name Deck Type    Class  \\\n",
       "0  [S19] Top 50 Legend NA Secret Paladin  by Loronzo     Tempo  Paladin   \n",
       "1          [TwoBiers] Dreadscale Hunter  by TwoBiers  Midrange   Hunter   \n",
       "2  [TOP 1] Legend Control Warrior (S19)  by zataroHS   Control  Warrior   \n",
       "3                        [Legend] Malylock  by Emixa   Control  Warlock   \n",
       "4  Burst Rogue 2.0 - Legend Grinder - Budget Incl...     Aggro    Rogue   \n",
       "\n",
       "   Rating   Views  Comments   Cost                    Updated  \\\n",
       "0      49   18057        17   5700   Nov 3, 2015 Warsong Nerf   \n",
       "1     161   66785        69   4420  Oct 28, 2015 Warsong Nerf   \n",
       "2      98   57151       126  13.8k   Nov 2, 2015 Warsong Nerf   \n",
       "3      99   44811        60   4080   Nov 2, 2015 Warsong Nerf   \n",
       "4     390  162317       116   2900   Nov 1, 2015 Warsong Nerf   \n",
       "\n",
       "                                                Link  \n",
       "0  /decks/356359-s19-top-50-legend-na-secret-paladin  \n",
       "1           /decks/354762-twobiers-dreadscale-hunter  \n",
       "2     /decks/355100-top-1-legend-control-warrior-s19  \n",
       "3                      /decks/355055-legend-malylock  \n",
       "4  /decks/352910-burst-rogue-2-0-legend-grinder-b...  "
      ]
     },
     "execution_count": 90,
     "metadata": {},
     "output_type": "execute_result"
    }
   ],
   "source": [
    "start = time.clock()\n",
    "all_decks_df = get_hearthpwn_decks(pages = 15)\n",
    "end = time.clock()\n",
    "print(end-start)\n",
    "all_decks_df.head()"
   ]
  },
  {
   "cell_type": "code",
   "execution_count": 91,
   "metadata": {
    "collapsed": false
   },
   "outputs": [
    {
     "data": {
      "text/html": [
       "<div>\n",
       "<table border=\"1\" class=\"dataframe\">\n",
       "  <thead>\n",
       "    <tr style=\"text-align: right;\">\n",
       "      <th></th>\n",
       "      <th>Deck Name</th>\n",
       "      <th>Deck Type</th>\n",
       "      <th>Class</th>\n",
       "      <th>Rating</th>\n",
       "      <th>Views</th>\n",
       "      <th>Comments</th>\n",
       "      <th>Cost</th>\n",
       "      <th>Updated</th>\n",
       "      <th>Link</th>\n",
       "    </tr>\n",
       "  </thead>\n",
       "  <tbody>\n",
       "    <tr>\n",
       "      <th>1</th>\n",
       "      <td>[TwoBiers] Dreadscale Hunter  by TwoBiers</td>\n",
       "      <td>Midrange</td>\n",
       "      <td>Hunter</td>\n",
       "      <td>161</td>\n",
       "      <td>66785</td>\n",
       "      <td>69</td>\n",
       "      <td>4420</td>\n",
       "      <td>Oct 28, 2015 Warsong Nerf</td>\n",
       "      <td>/decks/354762-twobiers-dreadscale-hunter</td>\n",
       "    </tr>\n",
       "    <tr>\n",
       "      <th>197</th>\n",
       "      <td>Fuck traps  by Gumz2732</td>\n",
       "      <td>None</td>\n",
       "      <td>Hunter</td>\n",
       "      <td>1</td>\n",
       "      <td>3</td>\n",
       "      <td>0</td>\n",
       "      <td>2580</td>\n",
       "      <td>Nov 3, 2015 Warsong Nerf</td>\n",
       "      <td>/decks/357558-fuck-traps</td>\n",
       "    </tr>\n",
       "    <tr>\n",
       "      <th>198</th>\n",
       "      <td>Mid-Range Hunter  by 0vie</td>\n",
       "      <td>Midrange</td>\n",
       "      <td>Hunter</td>\n",
       "      <td>1</td>\n",
       "      <td>5</td>\n",
       "      <td>0</td>\n",
       "      <td>2640</td>\n",
       "      <td>Nov 3, 2015 Warsong Nerf</td>\n",
       "      <td>/decks/357556-mid-range-hunter</td>\n",
       "    </tr>\n",
       "    <tr>\n",
       "      <th>214</th>\n",
       "      <td>Traps  by Grumpleloaf</td>\n",
       "      <td>None</td>\n",
       "      <td>Hunter</td>\n",
       "      <td>1</td>\n",
       "      <td>21</td>\n",
       "      <td>0</td>\n",
       "      <td>5760</td>\n",
       "      <td>Nov 3, 2015 Warsong Nerf</td>\n",
       "      <td>/decks/357527-traps</td>\n",
       "    </tr>\n",
       "    <tr>\n",
       "      <th>218</th>\n",
       "      <td>Spare Parts Hunter  by Surf314</td>\n",
       "      <td>Tempo</td>\n",
       "      <td>Hunter</td>\n",
       "      <td>1</td>\n",
       "      <td>22</td>\n",
       "      <td>0</td>\n",
       "      <td>4920</td>\n",
       "      <td>Nov 3, 2015 Warsong Nerf</td>\n",
       "      <td>/decks/357521-spare-parts-hunter</td>\n",
       "    </tr>\n",
       "  </tbody>\n",
       "</table>\n",
       "</div>"
      ],
      "text/plain": [
       "                                     Deck Name Deck Type   Class  Rating  \\\n",
       "1    [TwoBiers] Dreadscale Hunter  by TwoBiers  Midrange  Hunter     161   \n",
       "197                    Fuck traps  by Gumz2732      None  Hunter       1   \n",
       "198                  Mid-Range Hunter  by 0vie  Midrange  Hunter       1   \n",
       "214                      Traps  by Grumpleloaf      None  Hunter       1   \n",
       "218             Spare Parts Hunter  by Surf314     Tempo  Hunter       1   \n",
       "\n",
       "     Views  Comments  Cost                    Updated  \\\n",
       "1    66785        69  4420  Oct 28, 2015 Warsong Nerf   \n",
       "197      3         0  2580   Nov 3, 2015 Warsong Nerf   \n",
       "198      5         0  2640   Nov 3, 2015 Warsong Nerf   \n",
       "214     21         0  5760   Nov 3, 2015 Warsong Nerf   \n",
       "218     22         0  4920   Nov 3, 2015 Warsong Nerf   \n",
       "\n",
       "                                         Link  \n",
       "1    /decks/354762-twobiers-dreadscale-hunter  \n",
       "197                  /decks/357558-fuck-traps  \n",
       "198            /decks/357556-mid-range-hunter  \n",
       "214                       /decks/357527-traps  \n",
       "218          /decks/357521-spare-parts-hunter  "
      ]
     },
     "execution_count": 91,
     "metadata": {},
     "output_type": "execute_result"
    }
   ],
   "source": [
    "decks_df = all_decks_df\n",
    "decks_df = decks_df[~decks_df['Deck Type'].isin(['Theorycraft', 'Tavern Brawl', 'PvE Adventure'])]\n",
    "decks_df = decks_df[decks_df['Class'].isin(['Hunter'])]\n",
    "#decks_df = decks_df[decks_df['Deck Type'] == 'Midrange']\n",
    "decks_df = decks_df.sort_values(by='Class')\n",
    "decks_df.head()"
   ]
  },
  {
   "cell_type": "code",
   "execution_count": 93,
   "metadata": {
    "collapsed": false
   },
   "outputs": [
    {
     "ename": "ChunkedEncodingError",
     "evalue": "('Connection broken: IncompleteRead(0 bytes read)', IncompleteRead(0 bytes read))",
     "output_type": "error",
     "traceback": [
      "\u001b[1;31m---------------------------------------------------------------------------\u001b[0m",
      "\u001b[1;31mRemoteTraceback\u001b[0m                           Traceback (most recent call last)",
      "\u001b[1;31mRemoteTraceback\u001b[0m: \n\"\"\"\nTraceback (most recent call last):\n  File \"C:\\Program Files\\Anaconda\\envs\\hs-deck-clusters\\lib\\site-packages\\requests\\packages\\urllib3\\response.py\", line 417, in _update_chunk_length\n    self.chunk_left = int(line, 16)\nValueError: invalid literal for int() with base 16: b''\n\nDuring handling of the above exception, another exception occurred:\n\nTraceback (most recent call last):\n  File \"C:\\Program Files\\Anaconda\\envs\\hs-deck-clusters\\lib\\site-packages\\requests\\packages\\urllib3\\response.py\", line 214, in _error_catcher\n    yield\n  File \"C:\\Program Files\\Anaconda\\envs\\hs-deck-clusters\\lib\\site-packages\\requests\\packages\\urllib3\\response.py\", line 467, in read_chunked\n    self._update_chunk_length()\n  File \"C:\\Program Files\\Anaconda\\envs\\hs-deck-clusters\\lib\\site-packages\\requests\\packages\\urllib3\\response.py\", line 421, in _update_chunk_length\n    raise httplib.IncompleteRead(line)\nhttp.client.IncompleteRead: IncompleteRead(0 bytes read)\n\nDuring handling of the above exception, another exception occurred:\n\nTraceback (most recent call last):\n  File \"C:\\Program Files\\Anaconda\\envs\\hs-deck-clusters\\lib\\site-packages\\requests\\models.py\", line 657, in generate\n    for chunk in self.raw.stream(chunk_size, decode_content=True):\n  File \"C:\\Program Files\\Anaconda\\envs\\hs-deck-clusters\\lib\\site-packages\\requests\\packages\\urllib3\\response.py\", line 322, in stream\n    for line in self.read_chunked(amt, decode_content=decode_content):\n  File \"C:\\Program Files\\Anaconda\\envs\\hs-deck-clusters\\lib\\site-packages\\requests\\packages\\urllib3\\response.py\", line 485, in read_chunked\n    self._original_response.close()\n  File \"C:\\Program Files\\Anaconda\\envs\\hs-deck-clusters\\lib\\contextlib.py\", line 77, in __exit__\n    self.gen.throw(type, value, traceback)\n  File \"C:\\Program Files\\Anaconda\\envs\\hs-deck-clusters\\lib\\site-packages\\requests\\packages\\urllib3\\response.py\", line 232, in _error_catcher\n    raise ProtocolError('Connection broken: %r' % e, e)\nrequests.packages.urllib3.exceptions.ProtocolError: ('Connection broken: IncompleteRead(0 bytes read)', IncompleteRead(0 bytes read))\n\nDuring handling of the above exception, another exception occurred:\n\nTraceback (most recent call last):\n  File \"C:\\Program Files\\Anaconda\\envs\\hs-deck-clusters\\lib\\multiprocessing\\pool.py\", line 119, in worker\n    result = (True, func(*args, **kwds))\n  File \"C:\\Program Files\\Anaconda\\envs\\hs-deck-clusters\\lib\\multiprocessing\\pool.py\", line 44, in mapstar\n    return list(map(*args))\n  File \"C:\\Users\\liuji\\Google Drive\\GitHubVisualStudio\\hs-deck-clusters\\hsdc\\scraper.py\", line 49, in get_hearthpwn_deck\n    'http://www.hearthpwn.com' + rel_url).text)\n  File \"C:\\Program Files\\Anaconda\\envs\\hs-deck-clusters\\lib\\site-packages\\requests\\api.py\", line 69, in get\n    return request('get', url, params=params, **kwargs)\n  File \"C:\\Program Files\\Anaconda\\envs\\hs-deck-clusters\\lib\\site-packages\\requests\\api.py\", line 50, in request\n    response = session.request(method=method, url=url, **kwargs)\n  File \"C:\\Program Files\\Anaconda\\envs\\hs-deck-clusters\\lib\\site-packages\\requests\\sessions.py\", line 468, in request\n    resp = self.send(prep, **send_kwargs)\n  File \"C:\\Program Files\\Anaconda\\envs\\hs-deck-clusters\\lib\\site-packages\\requests\\sessions.py\", line 597, in send\n    history = [resp for resp in gen] if allow_redirects else []\n  File \"C:\\Program Files\\Anaconda\\envs\\hs-deck-clusters\\lib\\site-packages\\requests\\sessions.py\", line 597, in <listcomp>\n    history = [resp for resp in gen] if allow_redirects else []\n  File \"C:\\Program Files\\Anaconda\\envs\\hs-deck-clusters\\lib\\site-packages\\requests\\sessions.py\", line 195, in resolve_redirects\n    **adapter_kwargs\n  File \"C:\\Program Files\\Anaconda\\envs\\hs-deck-clusters\\lib\\site-packages\\requests\\sessions.py\", line 608, in send\n    r.content\n  File \"C:\\Program Files\\Anaconda\\envs\\hs-deck-clusters\\lib\\site-packages\\requests\\models.py\", line 734, in content\n    self._content = bytes().join(self.iter_content(CONTENT_CHUNK_SIZE)) or bytes()\n  File \"C:\\Program Files\\Anaconda\\envs\\hs-deck-clusters\\lib\\site-packages\\requests\\models.py\", line 660, in generate\n    raise ChunkedEncodingError(e)\nrequests.exceptions.ChunkedEncodingError: ('Connection broken: IncompleteRead(0 bytes read)', IncompleteRead(0 bytes read))\n\"\"\"",
      "\nThe above exception was the direct cause of the following exception:\n",
      "\u001b[1;31mChunkedEncodingError\u001b[0m                      Traceback (most recent call last)",
      "\u001b[1;32m<ipython-input-93-89b9de07b46d>\u001b[0m in \u001b[0;36m<module>\u001b[1;34m()\u001b[0m\n\u001b[0;32m      3\u001b[0m \u001b[0mstart\u001b[0m \u001b[1;33m=\u001b[0m \u001b[0mtime\u001b[0m\u001b[1;33m.\u001b[0m\u001b[0mclock\u001b[0m\u001b[1;33m(\u001b[0m\u001b[1;33m)\u001b[0m\u001b[1;33m\u001b[0m\u001b[0m\n\u001b[0;32m      4\u001b[0m \u001b[1;31m#decks = list(map(hsdc.scraper.get_hearthpwn_deck, decks_df['Link']))\u001b[0m\u001b[1;33m\u001b[0m\u001b[1;33m\u001b[0m\u001b[0m\n\u001b[1;32m----> 5\u001b[1;33m \u001b[0mdecks\u001b[0m \u001b[1;33m=\u001b[0m \u001b[0mparallel_hearthpwn\u001b[0m\u001b[1;33m(\u001b[0m\u001b[0mdecks_df\u001b[0m\u001b[1;33m[\u001b[0m\u001b[1;34m'Link'\u001b[0m\u001b[1;33m]\u001b[0m\u001b[1;33m)\u001b[0m\u001b[1;33m\u001b[0m\u001b[0m\n\u001b[0m\u001b[0;32m      6\u001b[0m \u001b[0mend\u001b[0m \u001b[1;33m=\u001b[0m \u001b[0mtime\u001b[0m\u001b[1;33m.\u001b[0m\u001b[0mclock\u001b[0m\u001b[1;33m(\u001b[0m\u001b[1;33m)\u001b[0m\u001b[1;33m\u001b[0m\u001b[0m\n\u001b[0;32m      7\u001b[0m \u001b[0mprint\u001b[0m\u001b[1;33m(\u001b[0m\u001b[0mend\u001b[0m\u001b[1;33m-\u001b[0m\u001b[0mstart\u001b[0m\u001b[1;33m)\u001b[0m\u001b[1;33m\u001b[0m\u001b[0m\n",
      "\u001b[1;32mC:\\Users\\liuji\\Google Drive\\GitHubVisualStudio\\hs-deck-clusters\\hsdc\\parallel.py\u001b[0m in \u001b[0;36measy_parallelize\u001b[1;34m(f, sequence)\u001b[0m\n\u001b[0;32m     10\u001b[0m         \u001b[1;34m\"\"\" assumes f takes sequence as input, easy w/ Python's scope \"\"\"\u001b[0m\u001b[1;33m\u001b[0m\u001b[0m\n\u001b[0;32m     11\u001b[0m         \u001b[0mpool\u001b[0m \u001b[1;33m=\u001b[0m \u001b[0mPool\u001b[0m\u001b[1;33m(\u001b[0m\u001b[0mprocesses\u001b[0m\u001b[1;33m=\u001b[0m\u001b[0mworker_count\u001b[0m\u001b[1;33m)\u001b[0m \u001b[1;31m# depends on available cores\u001b[0m\u001b[1;33m\u001b[0m\u001b[0m\n\u001b[1;32m---> 12\u001b[1;33m         \u001b[0mresult\u001b[0m \u001b[1;33m=\u001b[0m \u001b[0mpool\u001b[0m\u001b[1;33m.\u001b[0m\u001b[0mmap\u001b[0m\u001b[1;33m(\u001b[0m\u001b[0mf\u001b[0m\u001b[1;33m,\u001b[0m \u001b[0msequence\u001b[0m\u001b[1;33m)\u001b[0m \u001b[1;31m# for i in sequence: result[i] = f(i)\u001b[0m\u001b[1;33m\u001b[0m\u001b[0m\n\u001b[0m\u001b[0;32m     13\u001b[0m         \u001b[0mcleaned\u001b[0m \u001b[1;33m=\u001b[0m \u001b[1;33m[\u001b[0m\u001b[0mx\u001b[0m \u001b[1;32mfor\u001b[0m \u001b[0mx\u001b[0m \u001b[1;32min\u001b[0m \u001b[0mresult\u001b[0m \u001b[1;32mif\u001b[0m \u001b[1;32mnot\u001b[0m \u001b[0mx\u001b[0m \u001b[1;32mis\u001b[0m \u001b[1;32mNone\u001b[0m\u001b[1;33m]\u001b[0m \u001b[1;31m# getting results\u001b[0m\u001b[1;33m\u001b[0m\u001b[0m\n\u001b[0;32m     14\u001b[0m         \u001b[0mpool\u001b[0m\u001b[1;33m.\u001b[0m\u001b[0mclose\u001b[0m\u001b[1;33m(\u001b[0m\u001b[1;33m)\u001b[0m \u001b[1;31m# not optimal! but easy\u001b[0m\u001b[1;33m\u001b[0m\u001b[0m\n",
      "\u001b[1;32mC:\\Program Files\\Anaconda\\envs\\hs-deck-clusters\\lib\\multiprocessing\\pool.py\u001b[0m in \u001b[0;36mmap\u001b[1;34m(self, func, iterable, chunksize)\u001b[0m\n\u001b[0;32m    258\u001b[0m         \u001b[1;32min\u001b[0m \u001b[0ma\u001b[0m \u001b[0mlist\u001b[0m \u001b[0mthat\u001b[0m \u001b[1;32mis\u001b[0m \u001b[0mreturned\u001b[0m\u001b[1;33m.\u001b[0m\u001b[1;33m\u001b[0m\u001b[0m\n\u001b[0;32m    259\u001b[0m         '''\n\u001b[1;32m--> 260\u001b[1;33m         \u001b[1;32mreturn\u001b[0m \u001b[0mself\u001b[0m\u001b[1;33m.\u001b[0m\u001b[0m_map_async\u001b[0m\u001b[1;33m(\u001b[0m\u001b[0mfunc\u001b[0m\u001b[1;33m,\u001b[0m \u001b[0miterable\u001b[0m\u001b[1;33m,\u001b[0m \u001b[0mmapstar\u001b[0m\u001b[1;33m,\u001b[0m \u001b[0mchunksize\u001b[0m\u001b[1;33m)\u001b[0m\u001b[1;33m.\u001b[0m\u001b[0mget\u001b[0m\u001b[1;33m(\u001b[0m\u001b[1;33m)\u001b[0m\u001b[1;33m\u001b[0m\u001b[0m\n\u001b[0m\u001b[0;32m    261\u001b[0m \u001b[1;33m\u001b[0m\u001b[0m\n\u001b[0;32m    262\u001b[0m     \u001b[1;32mdef\u001b[0m \u001b[0mstarmap\u001b[0m\u001b[1;33m(\u001b[0m\u001b[0mself\u001b[0m\u001b[1;33m,\u001b[0m \u001b[0mfunc\u001b[0m\u001b[1;33m,\u001b[0m \u001b[0miterable\u001b[0m\u001b[1;33m,\u001b[0m \u001b[0mchunksize\u001b[0m\u001b[1;33m=\u001b[0m\u001b[1;32mNone\u001b[0m\u001b[1;33m)\u001b[0m\u001b[1;33m:\u001b[0m\u001b[1;33m\u001b[0m\u001b[0m\n",
      "\u001b[1;32mC:\\Program Files\\Anaconda\\envs\\hs-deck-clusters\\lib\\multiprocessing\\pool.py\u001b[0m in \u001b[0;36mget\u001b[1;34m(self, timeout)\u001b[0m\n\u001b[0;32m    597\u001b[0m             \u001b[1;32mreturn\u001b[0m \u001b[0mself\u001b[0m\u001b[1;33m.\u001b[0m\u001b[0m_value\u001b[0m\u001b[1;33m\u001b[0m\u001b[0m\n\u001b[0;32m    598\u001b[0m         \u001b[1;32melse\u001b[0m\u001b[1;33m:\u001b[0m\u001b[1;33m\u001b[0m\u001b[0m\n\u001b[1;32m--> 599\u001b[1;33m             \u001b[1;32mraise\u001b[0m \u001b[0mself\u001b[0m\u001b[1;33m.\u001b[0m\u001b[0m_value\u001b[0m\u001b[1;33m\u001b[0m\u001b[0m\n\u001b[0m\u001b[0;32m    600\u001b[0m \u001b[1;33m\u001b[0m\u001b[0m\n\u001b[0;32m    601\u001b[0m     \u001b[1;32mdef\u001b[0m \u001b[0m_set\u001b[0m\u001b[1;33m(\u001b[0m\u001b[0mself\u001b[0m\u001b[1;33m,\u001b[0m \u001b[0mi\u001b[0m\u001b[1;33m,\u001b[0m \u001b[0mobj\u001b[0m\u001b[1;33m)\u001b[0m\u001b[1;33m:\u001b[0m\u001b[1;33m\u001b[0m\u001b[0m\n",
      "\u001b[1;31mChunkedEncodingError\u001b[0m: ('Connection broken: IncompleteRead(0 bytes read)', IncompleteRead(0 bytes read))"
     ]
    }
   ],
   "source": [
    "parallel_hearthpwn = parallelize(hsdc.scraper.get_hearthpwn_deck)\n",
    "\n",
    "start = time.clock()\n",
    "#decks = list(map(hsdc.scraper.get_hearthpwn_deck, decks_df['Link']))\n",
    "decks = parallel_hearthpwn(decks_df['Link'])\n",
    "end = time.clock()\n",
    "print(end-start)\n",
    "\n",
    "# decks_df['Deck'] = decks\n",
    "#decks_df\n",
    "decks[0]\n",
    "#decks\n"
   ]
  },
  {
   "cell_type": "code",
   "execution_count": null,
   "metadata": {
    "collapsed": false,
    "scrolled": false
   },
   "outputs": [],
   "source": [
    "import progressbar\n",
    "from hsdc.features import augment_cards\n",
    "\n",
    "pbar = progressbar.ProgressBar(max_value=len(decks))  # Progressbar can guess max_value automatically.\n",
    "augmented = [augment_cards(deck) for _, deck in pbar(enumerate(decks))]\n",
    "    \n",
    "features = pd.DataFrame(augmented).fillna(0)\n",
    "features.head()"
   ]
  },
  {
   "cell_type": "code",
   "execution_count": null,
   "metadata": {
    "collapsed": false
   },
   "outputs": [],
   "source": [
    "from sklearn.metrics.pairwise import cosine_similarity\n",
    "from sklearn import preprocessing\n",
    "from scipy.spatial.distance import pdist\n",
    "\n",
    "#features = preprocessing.scale(features)\n",
    "D = cosine_similarity(preprocessing.scale(features))\n",
    "D"
   ]
  },
  {
   "cell_type": "code",
   "execution_count": null,
   "metadata": {
    "collapsed": false
   },
   "outputs": [],
   "source": [
    "pd.DataFrame(D).describe()"
   ]
  },
  {
   "cell_type": "code",
   "execution_count": null,
   "metadata": {
    "collapsed": false
   },
   "outputs": [],
   "source": [
    "import seaborn as sns\n",
    "import matplotlib.pyplot as plt\n",
    "\n",
    "sns.set(style=\"white\")\n",
    "\n",
    "# Generate a mask for the upper triangle\n",
    "mask = np.zeros_like(D, dtype=np.bool)\n",
    "mask[np.triu_indices_from(mask)] = True\n",
    "\n",
    "# Set up the matplotlib figure\n",
    "f, ax = plt.subplots(figsize=(15, 15))\n",
    "\n",
    "# Generate a custom diverging colormap\n",
    "cmap = sns.diverging_palette(220, 10, as_cmap=True)\n",
    "\n",
    "# Draw the heatmap with the mask and correct aspect ratio\n",
    "sns.heatmap(D, mask=mask,\n",
    "            cmap=cmap, vmax=1, vmin=-1,\n",
    "            annot = False,\n",
    "            square = True,\n",
    "            xticklabels=20, yticklabels=20,\n",
    "            linewidths=.5, ax=ax)"
   ]
  },
  {
   "cell_type": "code",
   "execution_count": null,
   "metadata": {
    "collapsed": false
   },
   "outputs": [],
   "source": [
    "# Author: Nelle Varoquaux <nelle.varoquaux@gmail.com>\n",
    "# Licence: BSD\n",
    "\n",
    "print(__doc__)\n",
    "import numpy as np\n",
    "\n",
    "\n",
    "from sklearn import manifold\n",
    "from sklearn.metrics.pairwise import euclidean_distances\n",
    "from sklearn.metrics.pairwise import cosine_distances\n",
    "from sklearn.metrics.pairwise import manhattan_distances\n",
    "from sklearn import preprocessing\n",
    "from sklearn.decomposition import PCA\n",
    "\n",
    "from scipy.spatial.distance import pdist\n",
    "import matplotlib\n",
    "\n",
    "matplotlib.style.use('ggplot')\n",
    "\n",
    "\n",
    "mds = manifold.MDS(n_components=2, max_iter=3000, eps=1e-9,\n",
    "                   dissimilarity=\"precomputed\", n_jobs=1)\n",
    "#tsne = manifold.TSNE(metric='cosine', init='pca')\n",
    "#pos = mds.fit_transform(2 - cosine_similarity(preprocessing.scale(features)))\n",
    "#pos = mds.fit_transform(euclidean_distances(preprocessing.scale(features)) + 2)\n",
    "#pos = mds.fit_transform(euclidean_distances(preprocessing.scale(features)))\n",
    "pos = mds.fit_transform(cosine_distances(preprocessing.scale(features)))\n",
    "#pos = mds.fit_transform(manhattan_distances(preprocessing.scale(features)))\n",
    "#print(mds.stress_)\n",
    "\n",
    "\n",
    "\n"
   ]
  },
  {
   "cell_type": "code",
   "execution_count": null,
   "metadata": {
    "collapsed": false,
    "scrolled": false
   },
   "outputs": [],
   "source": [
    "import seaborn as sns\n",
    "from matplotlib import pyplot as plt\n",
    "from matplotlib.collections import LineCollection\n",
    "\n",
    "fig = plt.figure(1, figsize=(22, 15))\n",
    "ax = plt.axes([0., 0., 1., 1.])\n",
    "\n",
    "filled_markers = matplotlib.markers.MarkerStyle.filled_markers\n",
    "filled_markers = [ 'o', 'x', '+', 'v', 's', 'D', '^' ]\n",
    "\n",
    "pos_df = pd.DataFrame(pos)\n",
    "pos_df['Label'] = decks_df.reset_index()['Deck Type'] + ' ' + decks_df.reset_index()['Class']\n",
    "pos_df['Deck Type'] = decks_df.reset_index()['Deck Type']\n",
    "pos_df['Class'] = decks_df.reset_index()['Class']\n",
    "\n",
    "\n",
    "labels = list(pd.Series(pos_df['Label'].values.ravel()).unique())\n",
    "deck_types = list(pd.Series(pos_df['Deck Type'].values.ravel()).unique())\n",
    "classes = list(pd.Series(pos_df['Class'].values.ravel()).unique())\n",
    "#colors = sns.color_palette(\"husl\", len(classes))\n",
    "#colors = sns.color_palette(\"Paired\", len(classes))\n",
    "colors = sns.husl_palette(len(classes), h=0.01, s=1.0, l=0.45)\n",
    "#sns.palplot(colors)\n",
    "\n",
    "for i, label in enumerate(labels):\n",
    "    points = pos_df[pos_df['Label']==label]\n",
    "    deck_class = points['Class'].iloc[0]\n",
    "    deck_type = points['Deck Type'].iloc[0]\n",
    "    marker = filled_markers[deck_types.index(deck_type)]\n",
    "    \n",
    "    points.plot(kind='scatter', x=0, y=1, s=350, marker=marker, linewidth=4,\n",
    "                label=label, ax=ax, c=[colors[classes.index(deck_class)],] * points.shape[0]);\n",
    "\n",
    "# Make room for the legend\n",
    "box = ax.get_position()\n",
    "ax.set_position([box.x0, box.y0, box.width * 0.8, box.height])\n",
    "    \n",
    "ax.legend(loc='best', prop={'size':18}, labelspacing=.6, bbox_to_anchor=(1.4, .9), ncol=2)\n",
    "plt.show()"
   ]
  },
  {
   "cell_type": "code",
   "execution_count": 221,
   "metadata": {
    "collapsed": false,
    "scrolled": true
   },
   "outputs": [
    {
     "name": "stderr",
     "output_type": "stream",
     "text": [
      "C:\\Program Files\\Anaconda\\envs\\hs-deck-clusters\\lib\\site-packages\\matplotlib\\collections.py:590: FutureWarning: elementwise comparison failed; returning scalar instead, but in the future will perform elementwise comparison\n",
      "  if self._edgecolors == str('face'):\n"
     ]
    },
    {
     "data": {
      "image/png": "[encoded data removed]",
      "text/plain": [
       "<matplotlib.figure.Figure at 0x763fe10>"
      ]
     },
     "metadata": {},
     "output_type": "display_data"
    }
   ],
   "source": [
    "import matplotlib.pyplot as plt\n",
    "\n",
    "fig = plt.figure(1)\n",
    "ax = plt.axes([0., 0., 1., 1.])\n",
    "\n",
    "points = np.random.rand(2,2) # plot 2 points, OK\n",
    "ax.scatter(points[0], points[1], c=[[1, 0, 0]],  s=200)\n",
    "points = np.random.rand(2,3) # plot 3 points, broken\n",
    "ax.scatter(points[0], points[1], marker='v', c=[[0, 1, 0]], s=200)\n",
    "points = np.random.rand(2,3) # plot 3 points with string color, OK\n",
    "ax.scatter(points[0], points[1], c='g', s=200)\n",
    "points = np.random.rand(2,4) # plot 4 points, OK\n",
    "ax.scatter(points[0], points[1], c=[[0, 0, 1]], s=200)\n",
    "plt.show()\n"
   ]
  },
  {
   "cell_type": "code",
   "execution_count": 35,
   "metadata": {
    "collapsed": false
   },
   "outputs": [
    {
     "data": {
      "text/plain": [
       "dict_keys([0, 1, 2, '+', 4, 5, 6, '|', '4', '1', 's', 'H', '*', 'x', ' ', '.', 'p', ',', '', 3, '<', '8', 'None', '>', 'D', '3', None, 'h', '_', 'v', 7, 'o', 'd', '2', '^'])"
      ]
     },
     "execution_count": 35,
     "metadata": {},
     "output_type": "execute_result"
    }
   ],
   "source": [
    "#print(matplotlib.markers.__doc__)\n",
    "#dir(matplotlib.markers)\n",
    "matplotlib.markers.MarkerStyle.markers.keys()"
   ]
  }
 ],
 "metadata": {
  "kernelspec": {
   "display_name": "Python 3",
   "language": "python",
   "name": "python3"
  },
  "language_info": {
   "codemirror_mode": {
    "name": "ipython",
    "version": 3
   },
   "file_extension": ".py",
   "mimetype": "text/x-python",
   "name": "python",
   "nbconvert_exporter": "python",
   "pygments_lexer": "ipython3",
   "version": "3.4.3"
  }
 },
 "nbformat": 4,
 "nbformat_minor": 0
}
